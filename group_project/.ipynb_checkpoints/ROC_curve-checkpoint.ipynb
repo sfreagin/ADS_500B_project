{
 "cells": [
  {
   "cell_type": "code",
   "execution_count": 9,
   "id": "0632620d",
   "metadata": {
    "execution": {
     "iopub.execute_input": "2022-08-05T01:31:52.325464Z",
     "iopub.status.busy": "2022-08-05T01:31:52.324470Z",
     "iopub.status.idle": "2022-08-05T01:31:52.524176Z",
     "shell.execute_reply": "2022-08-05T01:31:52.523178Z",
     "shell.execute_reply.started": "2022-08-05T01:31:52.325464Z"
    }
   },
   "outputs": [],
   "source": [
    "import pandas as pd\n",
    "import numpy as np\n",
    "import matplotlib.pyplot as plt\n",
    "import seaborn as sns\n",
    "\n",
    "from sklearn.ensemble import RandomForestClassifier, AdaBoostClassifier, GradientBoostingClassifier\n",
    "from sklearn.naive_bayes import GaussianNB, BernoulliNB, MultinomialNB\n",
    "from sklearn.discriminant_analysis import LinearDiscriminantAnalysis, QuadraticDiscriminantAnalysis\n",
    "from sklearn.metrics import f1_score, classification_report, accuracy_score, log_loss, roc_auc_score, hamming_loss, fbeta_score, auc, roc_curve, precision_score, recall_score\n",
    "from sklearn.model_selection import cross_val_predict, cross_val_score, learning_curve, GridSearchCV, RandomizedSearchCV, StratifiedShuffleSplit, train_test_split\n",
    "from sklearn.metrics import classification_report, accuracy_score, precision_recall_fscore_support\n",
    "from sklearn.neighbors import KNeighborsClassifier\n",
    "from sklearn.preprocessing import StandardScaler, Normalizer, LabelEncoder, RobustScaler, MinMaxScaler\n",
    "from sklearn.svm import SVC, LinearSVC, NuSVC\n",
    "from sklearn.tree import DecisionTreeClassifier\n",
    "from sklearn.neural_network import MLPClassifier\n",
    "from sklearn.linear_model import LogisticRegression\n",
    "from sklearn.experimental import enable_iterative_imputer\n",
    "from sklearn.impute import IterativeImputer, KNNImputer\n",
    "from sklearn.metrics import fbeta_score,accuracy_score,log_loss,cohen_kappa_score,roc_auc_score,f1_score,precision_score, recall_score,confusion_matrix,auc,roc_curve\n",
    "from sklearn.impute import IterativeImputer, KNNImputer"
   ]
  },
  {
   "cell_type": "code",
   "execution_count": 10,
   "id": "81149e1f",
   "metadata": {
    "execution": {
     "iopub.execute_input": "2022-08-05T01:31:52.527180Z",
     "iopub.status.busy": "2022-08-05T01:31:52.526178Z",
     "iopub.status.idle": "2022-08-05T01:31:53.332751Z",
     "shell.execute_reply": "2022-08-05T01:31:53.330751Z",
     "shell.execute_reply.started": "2022-08-05T01:31:52.527180Z"
    }
   },
   "outputs": [],
   "source": [
    "bank_main_df = pd.read_csv('./Dataset_1_Bank Marketing/bank_marketing.csv',delimiter=';')\n",
    "bank_main_df['deposit'] = [1 if (bank_main_df['deposit'][i] == 'yes') else 0 for i in range(len(bank_main_df)) ]\n",
    "bank_main_df = pd.get_dummies(bank_main_df, drop_first=False)\n"
   ]
  },
  {
   "cell_type": "code",
   "execution_count": 11,
   "id": "a805de6b",
   "metadata": {
    "execution": {
     "iopub.execute_input": "2022-08-05T01:31:53.752810Z",
     "iopub.status.busy": "2022-08-05T01:31:53.752810Z",
     "iopub.status.idle": "2022-08-05T01:32:13.003637Z",
     "shell.execute_reply": "2022-08-05T01:32:13.001637Z",
     "shell.execute_reply.started": "2022-08-05T01:31:53.752810Z"
    }
   },
   "outputs": [],
   "source": [
    "imp = IterativeImputer(max_iter=10, verbose=0) # values passed are defaults, but added them because they seem important... play around\n",
    "imp.fit(bank_main_df)\n",
    "imputed_df = imp.transform(bank_main_df)\n",
    "imputed_df = pd.DataFrame(imputed_df, columns=bank_main_df.columns)"
   ]
  },
  {
   "cell_type": "code",
   "execution_count": null,
   "id": "deb02b5f",
   "metadata": {},
   "outputs": [],
   "source": []
  },
  {
   "cell_type": "code",
   "execution_count": null,
   "id": "a1e9af2a",
   "metadata": {},
   "outputs": [],
   "source": []
  }
 ],
 "metadata": {
  "kernelspec": {
   "display_name": "Python 3",
   "language": "python",
   "name": "python3"
  },
  "language_info": {
   "codemirror_mode": {
    "name": "ipython",
    "version": 3
   },
   "file_extension": ".py",
   "mimetype": "text/x-python",
   "name": "python",
   "nbconvert_exporter": "python",
   "pygments_lexer": "ipython3",
   "version": "3.8.9"
  }
 },
 "nbformat": 4,
 "nbformat_minor": 5
}
