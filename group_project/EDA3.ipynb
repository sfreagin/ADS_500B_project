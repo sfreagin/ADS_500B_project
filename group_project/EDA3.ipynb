{
 "cells": [
  {
   "cell_type": "code",
   "execution_count": 1,
   "id": "080e0a5c-649e-4bad-a971-25786386d87a",
   "metadata": {},
   "outputs": [],
   "source": [
    "import pandas as pd\n",
    "import numpy as np\n",
    "\n",
    "import matplotlib.pyplot as plt\n",
    "import seaborn as sns"
   ]
  },
  {
   "cell_type": "code",
   "execution_count": 2,
   "id": "6b92a2e3-ffa1-47b7-987a-c303da9cbfce",
   "metadata": {},
   "outputs": [
    {
     "data": {
      "text/html": [
       "<div>\n",
       "<style scoped>\n",
       "    .dataframe tbody tr th:only-of-type {\n",
       "        vertical-align: middle;\n",
       "    }\n",
       "\n",
       "    .dataframe tbody tr th {\n",
       "        vertical-align: top;\n",
       "    }\n",
       "\n",
       "    .dataframe thead th {\n",
       "        text-align: right;\n",
       "    }\n",
       "</style>\n",
       "<table border=\"1\" class=\"dataframe\">\n",
       "  <thead>\n",
       "    <tr style=\"text-align: right;\">\n",
       "      <th></th>\n",
       "      <th>Administrative</th>\n",
       "      <th>Administrative_Duration</th>\n",
       "      <th>Informational</th>\n",
       "      <th>Informational_Duration</th>\n",
       "      <th>ProductRelated</th>\n",
       "      <th>ProductRelated_Duration</th>\n",
       "      <th>BounceRates</th>\n",
       "      <th>ExitRates</th>\n",
       "      <th>PageValues</th>\n",
       "      <th>SpecialDay</th>\n",
       "      <th>Month</th>\n",
       "      <th>OperatingSystems</th>\n",
       "      <th>Browser</th>\n",
       "      <th>Region</th>\n",
       "      <th>TrafficType</th>\n",
       "      <th>VisitorType</th>\n",
       "      <th>Weekend</th>\n",
       "      <th>Revenue</th>\n",
       "    </tr>\n",
       "  </thead>\n",
       "  <tbody>\n",
       "    <tr>\n",
       "      <th>0</th>\n",
       "      <td>0</td>\n",
       "      <td>0.0</td>\n",
       "      <td>0.0</td>\n",
       "      <td>0.0</td>\n",
       "      <td>1</td>\n",
       "      <td>0.000000</td>\n",
       "      <td>0.200000</td>\n",
       "      <td>0.200000</td>\n",
       "      <td>0.000000</td>\n",
       "      <td>0.0</td>\n",
       "      <td>Feb</td>\n",
       "      <td>1.0</td>\n",
       "      <td>1</td>\n",
       "      <td>1</td>\n",
       "      <td>1</td>\n",
       "      <td>Returning_Visitor</td>\n",
       "      <td>False</td>\n",
       "      <td>False</td>\n",
       "    </tr>\n",
       "    <tr>\n",
       "      <th>1</th>\n",
       "      <td>0</td>\n",
       "      <td>0.0</td>\n",
       "      <td>0.0</td>\n",
       "      <td>0.0</td>\n",
       "      <td>2</td>\n",
       "      <td>64.000000</td>\n",
       "      <td>0.000000</td>\n",
       "      <td>0.100000</td>\n",
       "      <td>0.000000</td>\n",
       "      <td>0.0</td>\n",
       "      <td>Feb</td>\n",
       "      <td>2.0</td>\n",
       "      <td>2</td>\n",
       "      <td>1</td>\n",
       "      <td>2</td>\n",
       "      <td>Returning_Visitor</td>\n",
       "      <td>False</td>\n",
       "      <td>False</td>\n",
       "    </tr>\n",
       "    <tr>\n",
       "      <th>2</th>\n",
       "      <td>0</td>\n",
       "      <td>0.0</td>\n",
       "      <td>0.0</td>\n",
       "      <td>0.0</td>\n",
       "      <td>1</td>\n",
       "      <td>0.000000</td>\n",
       "      <td>0.200000</td>\n",
       "      <td>0.200000</td>\n",
       "      <td>0.000000</td>\n",
       "      <td>0.0</td>\n",
       "      <td>Feb</td>\n",
       "      <td>4.0</td>\n",
       "      <td>1</td>\n",
       "      <td>9</td>\n",
       "      <td>3</td>\n",
       "      <td>Returning_Visitor</td>\n",
       "      <td>False</td>\n",
       "      <td>False</td>\n",
       "    </tr>\n",
       "    <tr>\n",
       "      <th>3</th>\n",
       "      <td>0</td>\n",
       "      <td>0.0</td>\n",
       "      <td>0.0</td>\n",
       "      <td>0.0</td>\n",
       "      <td>2</td>\n",
       "      <td>2.666667</td>\n",
       "      <td>0.050000</td>\n",
       "      <td>0.140000</td>\n",
       "      <td>0.000000</td>\n",
       "      <td>0.0</td>\n",
       "      <td>Feb</td>\n",
       "      <td>3.0</td>\n",
       "      <td>2</td>\n",
       "      <td>2</td>\n",
       "      <td>4</td>\n",
       "      <td>Returning_Visitor</td>\n",
       "      <td>False</td>\n",
       "      <td>False</td>\n",
       "    </tr>\n",
       "    <tr>\n",
       "      <th>4</th>\n",
       "      <td>0</td>\n",
       "      <td>0.0</td>\n",
       "      <td>0.0</td>\n",
       "      <td>0.0</td>\n",
       "      <td>10</td>\n",
       "      <td>627.500000</td>\n",
       "      <td>0.020000</td>\n",
       "      <td>0.050000</td>\n",
       "      <td>0.000000</td>\n",
       "      <td>0.0</td>\n",
       "      <td>Feb</td>\n",
       "      <td>3.0</td>\n",
       "      <td>3</td>\n",
       "      <td>1</td>\n",
       "      <td>4</td>\n",
       "      <td>Returning_Visitor</td>\n",
       "      <td>True</td>\n",
       "      <td>False</td>\n",
       "    </tr>\n",
       "    <tr>\n",
       "      <th>...</th>\n",
       "      <td>...</td>\n",
       "      <td>...</td>\n",
       "      <td>...</td>\n",
       "      <td>...</td>\n",
       "      <td>...</td>\n",
       "      <td>...</td>\n",
       "      <td>...</td>\n",
       "      <td>...</td>\n",
       "      <td>...</td>\n",
       "      <td>...</td>\n",
       "      <td>...</td>\n",
       "      <td>...</td>\n",
       "      <td>...</td>\n",
       "      <td>...</td>\n",
       "      <td>...</td>\n",
       "      <td>...</td>\n",
       "      <td>...</td>\n",
       "      <td>...</td>\n",
       "    </tr>\n",
       "    <tr>\n",
       "      <th>12325</th>\n",
       "      <td>3</td>\n",
       "      <td>145.0</td>\n",
       "      <td>0.0</td>\n",
       "      <td>0.0</td>\n",
       "      <td>53</td>\n",
       "      <td>1783.791667</td>\n",
       "      <td>0.007143</td>\n",
       "      <td>0.029031</td>\n",
       "      <td>12.241717</td>\n",
       "      <td>0.0</td>\n",
       "      <td>Dec</td>\n",
       "      <td>4.0</td>\n",
       "      <td>6</td>\n",
       "      <td>1</td>\n",
       "      <td>1</td>\n",
       "      <td>Returning_Visitor</td>\n",
       "      <td>True</td>\n",
       "      <td>False</td>\n",
       "    </tr>\n",
       "    <tr>\n",
       "      <th>12326</th>\n",
       "      <td>0</td>\n",
       "      <td>0.0</td>\n",
       "      <td>0.0</td>\n",
       "      <td>0.0</td>\n",
       "      <td>5</td>\n",
       "      <td>465.750000</td>\n",
       "      <td>0.000000</td>\n",
       "      <td>0.021333</td>\n",
       "      <td>0.000000</td>\n",
       "      <td>0.0</td>\n",
       "      <td>Nov</td>\n",
       "      <td>3.0</td>\n",
       "      <td>2</td>\n",
       "      <td>1</td>\n",
       "      <td>8</td>\n",
       "      <td>Returning_Visitor</td>\n",
       "      <td>True</td>\n",
       "      <td>False</td>\n",
       "    </tr>\n",
       "    <tr>\n",
       "      <th>12327</th>\n",
       "      <td>0</td>\n",
       "      <td>0.0</td>\n",
       "      <td>0.0</td>\n",
       "      <td>0.0</td>\n",
       "      <td>6</td>\n",
       "      <td>184.250000</td>\n",
       "      <td>0.083333</td>\n",
       "      <td>0.086667</td>\n",
       "      <td>0.000000</td>\n",
       "      <td>0.0</td>\n",
       "      <td>Nov</td>\n",
       "      <td>3.0</td>\n",
       "      <td>2</td>\n",
       "      <td>1</td>\n",
       "      <td>13</td>\n",
       "      <td>Returning_Visitor</td>\n",
       "      <td>True</td>\n",
       "      <td>False</td>\n",
       "    </tr>\n",
       "    <tr>\n",
       "      <th>12328</th>\n",
       "      <td>4</td>\n",
       "      <td>75.0</td>\n",
       "      <td>0.0</td>\n",
       "      <td>0.0</td>\n",
       "      <td>15</td>\n",
       "      <td>346.000000</td>\n",
       "      <td>0.000000</td>\n",
       "      <td>0.021053</td>\n",
       "      <td>0.000000</td>\n",
       "      <td>0.0</td>\n",
       "      <td>Nov</td>\n",
       "      <td>2.0</td>\n",
       "      <td>2</td>\n",
       "      <td>3</td>\n",
       "      <td>11</td>\n",
       "      <td>Returning_Visitor</td>\n",
       "      <td>False</td>\n",
       "      <td>False</td>\n",
       "    </tr>\n",
       "    <tr>\n",
       "      <th>12329</th>\n",
       "      <td>0</td>\n",
       "      <td>0.0</td>\n",
       "      <td>0.0</td>\n",
       "      <td>0.0</td>\n",
       "      <td>3</td>\n",
       "      <td>21.250000</td>\n",
       "      <td>0.000000</td>\n",
       "      <td>0.066667</td>\n",
       "      <td>0.000000</td>\n",
       "      <td>0.0</td>\n",
       "      <td>Nov</td>\n",
       "      <td>3.0</td>\n",
       "      <td>2</td>\n",
       "      <td>1</td>\n",
       "      <td>2</td>\n",
       "      <td>New_Visitor</td>\n",
       "      <td>True</td>\n",
       "      <td>False</td>\n",
       "    </tr>\n",
       "  </tbody>\n",
       "</table>\n",
       "<p>12330 rows × 18 columns</p>\n",
       "</div>"
      ],
      "text/plain": [
       "       Administrative  Administrative_Duration  Informational  \\\n",
       "0                   0                      0.0            0.0   \n",
       "1                   0                      0.0            0.0   \n",
       "2                   0                      0.0            0.0   \n",
       "3                   0                      0.0            0.0   \n",
       "4                   0                      0.0            0.0   \n",
       "...               ...                      ...            ...   \n",
       "12325               3                    145.0            0.0   \n",
       "12326               0                      0.0            0.0   \n",
       "12327               0                      0.0            0.0   \n",
       "12328               4                     75.0            0.0   \n",
       "12329               0                      0.0            0.0   \n",
       "\n",
       "       Informational_Duration  ProductRelated  ProductRelated_Duration  \\\n",
       "0                         0.0               1                 0.000000   \n",
       "1                         0.0               2                64.000000   \n",
       "2                         0.0               1                 0.000000   \n",
       "3                         0.0               2                 2.666667   \n",
       "4                         0.0              10               627.500000   \n",
       "...                       ...             ...                      ...   \n",
       "12325                     0.0              53              1783.791667   \n",
       "12326                     0.0               5               465.750000   \n",
       "12327                     0.0               6               184.250000   \n",
       "12328                     0.0              15               346.000000   \n",
       "12329                     0.0               3                21.250000   \n",
       "\n",
       "       BounceRates  ExitRates  PageValues  SpecialDay Month  OperatingSystems  \\\n",
       "0         0.200000   0.200000    0.000000         0.0   Feb               1.0   \n",
       "1         0.000000   0.100000    0.000000         0.0   Feb               2.0   \n",
       "2         0.200000   0.200000    0.000000         0.0   Feb               4.0   \n",
       "3         0.050000   0.140000    0.000000         0.0   Feb               3.0   \n",
       "4         0.020000   0.050000    0.000000         0.0   Feb               3.0   \n",
       "...            ...        ...         ...         ...   ...               ...   \n",
       "12325     0.007143   0.029031   12.241717         0.0   Dec               4.0   \n",
       "12326     0.000000   0.021333    0.000000         0.0   Nov               3.0   \n",
       "12327     0.083333   0.086667    0.000000         0.0   Nov               3.0   \n",
       "12328     0.000000   0.021053    0.000000         0.0   Nov               2.0   \n",
       "12329     0.000000   0.066667    0.000000         0.0   Nov               3.0   \n",
       "\n",
       "       Browser  Region  TrafficType        VisitorType  Weekend  Revenue  \n",
       "0            1       1            1  Returning_Visitor    False    False  \n",
       "1            2       1            2  Returning_Visitor    False    False  \n",
       "2            1       9            3  Returning_Visitor    False    False  \n",
       "3            2       2            4  Returning_Visitor    False    False  \n",
       "4            3       1            4  Returning_Visitor     True    False  \n",
       "...        ...     ...          ...                ...      ...      ...  \n",
       "12325        6       1            1  Returning_Visitor     True    False  \n",
       "12326        2       1            8  Returning_Visitor     True    False  \n",
       "12327        2       1           13  Returning_Visitor     True    False  \n",
       "12328        2       3           11  Returning_Visitor    False    False  \n",
       "12329        2       1            2        New_Visitor     True    False  \n",
       "\n",
       "[12330 rows x 18 columns]"
      ]
     },
     "execution_count": 2,
     "metadata": {},
     "output_type": "execute_result"
    }
   ],
   "source": [
    "pd.set_option('display.max_columns',None)\n",
    "online_main_df = pd.read_csv('./Dataset_3_Online_Shoppers_Intention/online_shoppers_intention.csv')\n",
    "\n",
    "online_main_df"
   ]
  },
  {
   "cell_type": "code",
   "execution_count": 7,
   "id": "b85c0a25-203c-4e6a-ac3e-7858cee7e326",
   "metadata": {},
   "outputs": [
    {
     "name": "stdout",
     "output_type": "stream",
     "text": [
      "0     5768\n",
      "1     1354\n",
      "2     1114\n",
      "3      915\n",
      "4      765\n",
      "5      575\n",
      "6      432\n",
      "7      338\n",
      "8      287\n",
      "9      225\n",
      "10     153\n",
      "11     105\n",
      "12      86\n",
      "13      56\n",
      "14      44\n",
      "15      38\n",
      "16      24\n",
      "17      16\n",
      "18      12\n",
      "19       6\n",
      "24       4\n",
      "22       4\n",
      "23       3\n",
      "21       2\n",
      "20       2\n",
      "27       1\n",
      "26       1\n",
      "Name: Administrative, dtype: int64\n"
     ]
    },
    {
     "data": {
      "image/png": "[encoded data removed]",
      "text/plain": [
       "<Figure size 864x216 with 1 Axes>"
      ]
     },
     "metadata": {
      "needs_background": "light"
     },
     "output_type": "display_data"
    }
   ],
   "source": [
    "print(online_main_df['Administrative'].value_counts())\n",
    "plt.figure(figsize=(12,3))\n",
    "sns.countplot(data=online_main_df,x='Administrative');"
   ]
  },
  {
   "cell_type": "code",
   "execution_count": 21,
   "id": "b8036291-7fae-446c-9781-03953cf2b208",
   "metadata": {},
   "outputs": [
    {
     "data": {
      "image/png": "[encoded data removed]",
      "text/plain": [
       "<Figure size 864x216 with 1 Axes>"
      ]
     },
     "metadata": {
      "needs_background": "light"
     },
     "output_type": "display_data"
    }
   ],
   "source": [
    "#print(online_main_df['Administrative_Duration'].value_counts())\n",
    "plt.figure(figsize=(12,3))\n",
    "sns.histplot(data=online_main_df[online_main_df['Administrative_Duration'] > 0],x='Administrative_Duration');"
   ]
  },
  {
   "cell_type": "code",
   "execution_count": 18,
   "id": "8059a652-fb7a-4e96-a02a-4f052de9b561",
   "metadata": {},
   "outputs": [
    {
     "name": "stdout",
     "output_type": "stream",
     "text": [
      "0.0     9599\n",
      "1.0     1029\n",
      "2.0      719\n",
      "3.0      377\n",
      "4.0      221\n",
      "5.0       98\n",
      "6.0       78\n",
      "7.0       34\n",
      "9.0       15\n",
      "8.0       14\n",
      "10.0       7\n",
      "12.0       5\n",
      "14.0       2\n",
      "16.0       1\n",
      "11.0       1\n",
      "24.0       1\n",
      "13.0       1\n",
      "Name: Informational, dtype: int64\n"
     ]
    },
    {
     "data": {
      "image/png": "[encoded data removed]",
      "text/plain": [
       "<Figure size 864x216 with 1 Axes>"
      ]
     },
     "metadata": {
      "needs_background": "light"
     },
     "output_type": "display_data"
    }
   ],
   "source": [
    "print(online_main_df['Informational'].value_counts())\n",
    "plt.figure(figsize=(12,3))\n",
    "sns.countplot(data=online_main_df,x='Informational');"
   ]
  },
  {
   "cell_type": "code",
   "execution_count": 20,
   "id": "0272d38d-8090-4fad-b2ae-7a432bf5ea06",
   "metadata": {},
   "outputs": [
    {
     "data": {
      "image/png": "[encoded data removed]",
      "text/plain": [
       "<Figure size 864x216 with 1 Axes>"
      ]
     },
     "metadata": {
      "needs_background": "light"
     },
     "output_type": "display_data"
    }
   ],
   "source": [
    "#print(online_main_df['Administrative_Duration'].value_counts())\n",
    "plt.figure(figsize=(12,3))\n",
    "sns.histplot(data=online_main_df[online_main_df['Informational_Duration'] > 0],x='Informational_Duration');"
   ]
  },
  {
   "cell_type": "code",
   "execution_count": 25,
   "id": "ef563b19-ccf5-40c7-8bcf-4bba2c10de32",
   "metadata": {},
   "outputs": [
    {
     "data": {
      "image/png": "[encoded data removed]",
      "text/plain": [
       "<Figure size 864x216 with 1 Axes>"
      ]
     },
     "metadata": {
      "needs_background": "light"
     },
     "output_type": "display_data"
    }
   ],
   "source": [
    "#print(online_main_df['ProductRelated'].value_counts())\n",
    "plt.figure(figsize=(12,3))\n",
    "sns.histplot(data=online_main_df,x='ProductRelated');"
   ]
  },
  {
   "cell_type": "code",
   "execution_count": 27,
   "id": "5e357a68-0b41-4df5-a448-fe91716a60c6",
   "metadata": {},
   "outputs": [
    {
     "data": {
      "image/png": "[encoded data removed]",
      "text/plain": [
       "<Figure size 864x216 with 1 Axes>"
      ]
     },
     "metadata": {
      "needs_background": "light"
     },
     "output_type": "display_data"
    }
   ],
   "source": [
    "#print(online_main_df['ProductRelated'].value_counts())\n",
    "plt.figure(figsize=(12,3))\n",
    "sns.histplot(data=online_main_df[online_main_df['ProductRelated_Duration'] > 0],x='ProductRelated_Duration');"
   ]
  },
  {
   "cell_type": "code",
   "execution_count": 30,
   "id": "1a8074ab-08ef-4924-b4ca-d719b2b38a46",
   "metadata": {},
   "outputs": [
    {
     "data": {
      "image/png": "[encoded data removed]",
      "text/plain": [
       "<Figure size 864x216 with 1 Axes>"
      ]
     },
     "metadata": {
      "needs_background": "light"
     },
     "output_type": "display_data"
    }
   ],
   "source": [
    "#print(online_main_df['ProductRelated'].value_counts())\n",
    "plt.figure(figsize=(12,3))\n",
    "sns.histplot(data=online_main_df[online_main_df['BounceRates'] > 0],x='BounceRates');"
   ]
  },
  {
   "cell_type": "code",
   "execution_count": 31,
   "id": "5e54fc0b-d697-46c7-8b9a-5f39f697e0d2",
   "metadata": {},
   "outputs": [
    {
     "data": {
      "image/png": "[encoded data removed]",
      "text/plain": [
       "<Figure size 864x216 with 1 Axes>"
      ]
     },
     "metadata": {
      "needs_background": "light"
     },
     "output_type": "display_data"
    }
   ],
   "source": [
    "#print(online_main_df['ProductRelated'].value_counts())\n",
    "plt.figure(figsize=(12,3))\n",
    "sns.histplot(data=online_main_df[online_main_df['ExitRates'] > 0],x='ExitRates');"
   ]
  },
  {
   "cell_type": "code",
   "execution_count": 33,
   "id": "9cfe9806-1854-4996-bdb9-15a4f335d44b",
   "metadata": {},
   "outputs": [
    {
     "data": {
      "image/png": "[encoded data removed]",
      "text/plain": [
       "<Figure size 864x216 with 1 Axes>"
      ]
     },
     "metadata": {
      "needs_background": "light"
     },
     "output_type": "display_data"
    }
   ],
   "source": [
    "#print(online_main_df['ProductRelated'].value_counts())\n",
    "plt.figure(figsize=(12,3))\n",
    "sns.histplot(data=online_main_df[online_main_df['PageValues'] > 0],x='PageValues');"
   ]
  },
  {
   "cell_type": "code",
   "execution_count": 34,
   "id": "1115973b-8908-452b-bc6b-1c8524d8e171",
   "metadata": {},
   "outputs": [
    {
     "name": "stdout",
     "output_type": "stream",
     "text": [
      "0.0    11079\n",
      "0.6      351\n",
      "0.8      325\n",
      "0.4      243\n",
      "0.2      178\n",
      "1.0      154\n",
      "Name: SpecialDay, dtype: int64\n"
     ]
    },
    {
     "data": {
      "image/png": "[encoded data removed]",
      "text/plain": [
       "<Figure size 864x216 with 1 Axes>"
      ]
     },
     "metadata": {
      "needs_background": "light"
     },
     "output_type": "display_data"
    }
   ],
   "source": [
    "print(online_main_df['SpecialDay'].value_counts())\n",
    "plt.figure(figsize=(12,3))\n",
    "sns.countplot(data=online_main_df,x='SpecialDay');"
   ]
  },
  {
   "cell_type": "code",
   "execution_count": 37,
   "id": "7cab1f24-4f75-4343-a437-ef858cb43054",
   "metadata": {},
   "outputs": [
    {
     "name": "stdout",
     "output_type": "stream",
     "text": [
      "May     3364\n",
      "Nov     2998\n",
      "Mar     1907\n",
      "Dec     1727\n",
      "Oct      549\n",
      "Sep      448\n",
      "Aug      433\n",
      "Jul      432\n",
      "June     288\n",
      "Feb      184\n",
      "Name: Month, dtype: int64\n"
     ]
    },
    {
     "data": {
      "image/png": "[encoded data removed]",
      "text/plain": [
       "<Figure size 864x216 with 1 Axes>"
      ]
     },
     "metadata": {
      "needs_background": "light"
     },
     "output_type": "display_data"
    }
   ],
   "source": [
    "month_list = ['Jan','Feb','Mar','Apr','May','June','Jul','Aug','Sep','Oct','Nov','Dec']\n",
    "print(online_main_df['Month'].value_counts())\n",
    "plt.figure(figsize=(12,3))\n",
    "sns.countplot(data=online_main_df,x='Month',order=month_list);"
   ]
  },
  {
   "cell_type": "code",
   "execution_count": 38,
   "id": "8c5c756d-5025-49f7-afaf-96d3066730e1",
   "metadata": {},
   "outputs": [
    {
     "name": "stdout",
     "output_type": "stream",
     "text": [
      "2.0    6525\n",
      "1.0    2567\n",
      "3.0    2531\n",
      "4.0     474\n",
      "8.0      78\n",
      "6.0      19\n",
      "7.0       7\n",
      "5.0       6\n",
      "Name: OperatingSystems, dtype: int64\n"
     ]
    },
    {
     "data": {
      "image/png": "[encoded data removed]",
      "text/plain": [
       "<Figure size 864x216 with 1 Axes>"
      ]
     },
     "metadata": {
      "needs_background": "light"
     },
     "output_type": "display_data"
    }
   ],
   "source": [
    "print(online_main_df['OperatingSystems'].value_counts())\n",
    "plt.figure(figsize=(12,3))\n",
    "sns.countplot(data=online_main_df,x='OperatingSystems');"
   ]
  },
  {
   "cell_type": "code",
   "execution_count": 40,
   "id": "9e98fba8-d80c-4fe7-be08-c4666227c870",
   "metadata": {},
   "outputs": [
    {
     "name": "stdout",
     "output_type": "stream",
     "text": [
      "2     7961\n",
      "1     2462\n",
      "4      736\n",
      "5      467\n",
      "6      174\n",
      "10     163\n",
      "8      135\n",
      "3      105\n",
      "13      61\n",
      "7       49\n",
      "12      10\n",
      "11       6\n",
      "9        1\n",
      "Name: Browser, dtype: int64\n"
     ]
    },
    {
     "data": {
      "image/png": "[encoded data removed]",
      "text/plain": [
       "<Figure size 864x216 with 1 Axes>"
      ]
     },
     "metadata": {
      "needs_background": "light"
     },
     "output_type": "display_data"
    }
   ],
   "source": [
    "print(online_main_df['Browser'].value_counts())\n",
    "plt.figure(figsize=(12,3))\n",
    "sns.countplot(data=online_main_df,x='Browser');"
   ]
  },
  {
   "cell_type": "code",
   "execution_count": 41,
   "id": "3edf051e-45af-4dd2-ab4f-4232de26cf29",
   "metadata": {},
   "outputs": [
    {
     "name": "stdout",
     "output_type": "stream",
     "text": [
      "1    4780\n",
      "3    2403\n",
      "4    1182\n",
      "2    1136\n",
      "6     805\n",
      "7     761\n",
      "9     511\n",
      "8     434\n",
      "5     318\n",
      "Name: Region, dtype: int64\n"
     ]
    },
    {
     "data": {
      "image/png": "[encoded data removed]",
      "text/plain": [
       "<Figure size 864x216 with 1 Axes>"
      ]
     },
     "metadata": {
      "needs_background": "light"
     },
     "output_type": "display_data"
    }
   ],
   "source": [
    "print(online_main_df['Region'].value_counts())\n",
    "plt.figure(figsize=(12,3))\n",
    "sns.countplot(data=online_main_df,x='Region');"
   ]
  },
  {
   "cell_type": "code",
   "execution_count": 43,
   "id": "88f480de-89ab-4838-8cac-3ed6a1253ec0",
   "metadata": {},
   "outputs": [
    {
     "name": "stdout",
     "output_type": "stream",
     "text": [
      "2     3913\n",
      "1     2451\n",
      "3     2052\n",
      "4     1069\n",
      "13     738\n",
      "10     450\n",
      "6      444\n",
      "8      343\n",
      "5      260\n",
      "11     247\n",
      "20     198\n",
      "9       42\n",
      "7       40\n",
      "15      38\n",
      "19      17\n",
      "14      13\n",
      "18      10\n",
      "16       3\n",
      "12       1\n",
      "17       1\n",
      "Name: TrafficType, dtype: int64\n"
     ]
    },
    {
     "data": {
      "image/png": "[encoded data removed]",
      "text/plain": [
       "<Figure size 864x216 with 1 Axes>"
      ]
     },
     "metadata": {
      "needs_background": "light"
     },
     "output_type": "display_data"
    }
   ],
   "source": [
    "print(online_main_df['TrafficType'].value_counts())\n",
    "plt.figure(figsize=(12,3))\n",
    "sns.countplot(data=online_main_df,x='TrafficType');"
   ]
  },
  {
   "cell_type": "code",
   "execution_count": null,
   "id": "c42f4136-0b82-4fd7-898a-35008cca306f",
   "metadata": {},
   "outputs": [],
   "source": []
  }
 ],
 "metadata": {
  "kernelspec": {
   "display_name": "Python 3 (ipykernel)",
   "language": "python",
   "name": "python3"
  },
  "language_info": {
   "codemirror_mode": {
    "name": "ipython",
    "version": 3
   },
   "file_extension": ".py",
   "mimetype": "text/x-python",
   "name": "python",
   "nbconvert_exporter": "python",
   "pygments_lexer": "ipython3",
   "version": "3.10.5"
  }
 },
 "nbformat": 4,
 "nbformat_minor": 5
}
