{
 "cells": [
  {
   "cell_type": "markdown",
   "id": "695e8e34",
   "metadata": {},
   "source": [
    "## Initial Prediction Model\n",
    "The original README file says:\n",
    "> Often, more than one contact to the same client was required, **in order to access if the product (bank term deposit) would be (or not) subscribed**\n",
    "\n",
    "Therefore, let's start with a simple binary classification model to predict Deposit yes/no"
   ]
  },
  {
   "cell_type": "code",
   "execution_count": 1,
   "id": "7bf69acd",
   "metadata": {
    "tags": []
   },
   "outputs": [],
   "source": [
    "#import the right libraries\n",
    "import pandas as pd\n",
    "import numpy as np\n",
    "import matplotlib.pyplot as plt\n",
    "import seaborn as sns\n",
    "\n",
    "from sklearn.ensemble import RandomForestClassifier, AdaBoostClassifier, GradientBoostingClassifier\n",
    "from sklearn.naive_bayes import GaussianNB, BernoulliNB, MultinomialNB\n",
    "from sklearn.discriminant_analysis import LinearDiscriminantAnalysis, QuadraticDiscriminantAnalysis\n",
    "from sklearn.metrics import f1_score, classification_report, accuracy_score, log_loss, roc_auc_score, hamming_loss, fbeta_score, auc, roc_curve, precision_score, recall_score\n",
    "from sklearn.model_selection import cross_val_predict, cross_val_score, learning_curve, GridSearchCV, RandomizedSearchCV, StratifiedShuffleSplit, train_test_split\n",
    "from sklearn.metrics import classification_report, accuracy_score, precision_recall_fscore_support\n",
    "from sklearn.neighbors import KNeighborsClassifier\n",
    "from sklearn.preprocessing import StandardScaler, Normalizer, LabelEncoder, RobustScaler, MinMaxScaler\n",
    "from sklearn.svm import SVC, LinearSVC, NuSVC\n",
    "from sklearn.tree import DecisionTreeClassifier\n",
    "from sklearn.neural_network import MLPClassifier\n",
    "from sklearn.linear_model import LogisticRegression\n",
    "from sklearn.experimental import enable_iterative_imputer\n",
    "from sklearn.impute import IterativeImputer, KNNImputer"
   ]
  },
  {
   "cell_type": "code",
   "execution_count": 2,
   "id": "0837eb3a",
   "metadata": {
    "tags": []
   },
   "outputs": [],
   "source": [
    "#this option just allwos us to see every column in the notebook\n",
    "pd.set_option('display.max_columns', None)\n",
    "\n",
    "#pd.get_option(\"display.max_columns\")"
   ]
  },
  {
   "cell_type": "code",
   "execution_count": 3,
   "id": "098561a5",
   "metadata": {
    "tags": []
   },
   "outputs": [],
   "source": [
    "#pull in the dataset and turn into a DataFrame\n",
    "bank_main_df = pd.read_csv('./Dataset_1_Bank Marketing/bank_marketing.csv',delimiter=';')\n",
    "# bank_main_df"
   ]
  },
  {
   "cell_type": "code",
   "execution_count": 4,
   "id": "468c0585",
   "metadata": {
    "tags": []
   },
   "outputs": [],
   "source": [
    "# bank_main_df.describe()"
   ]
  },
  {
   "cell_type": "code",
   "execution_count": 5,
   "id": "ef39a1f7",
   "metadata": {
    "tags": []
   },
   "outputs": [],
   "source": [
    "#checking the options available under the \"deposit\" field\n",
    "# bank_main_df['deposit'].value_counts()"
   ]
  },
  {
   "cell_type": "code",
   "execution_count": 6,
   "id": "32d3524b",
   "metadata": {
    "tags": []
   },
   "outputs": [],
   "source": [
    "#replacing the yes/no categorical values with 1/0 binary digits\n",
    "bank_main_df['deposit'] = [1 if (bank_main_df['deposit'][i] == 'yes') else 0 for i in range(len(bank_main_df)) ]"
   ]
  },
  {
   "cell_type": "code",
   "execution_count": 7,
   "id": "200492f9",
   "metadata": {
    "tags": []
   },
   "outputs": [],
   "source": [
    "#because we have so many cateogrical variables, we should one-hot encode them (i.e. create dummy categorical variables)\n",
    "#we also use drop_first=True to reduce the redundant column count \n",
    "bank_main_df = pd.get_dummies(bank_main_df, drop_first=False)\n",
    "\n",
    "# bank_main_df"
   ]
  },
  {
   "cell_type": "code",
   "execution_count": 8,
   "id": "ef8251dc",
   "metadata": {
    "tags": []
   },
   "outputs": [],
   "source": [
    "#note that only the \"age\" category has null values\n",
    "\n",
    "# pd.isnull(bank_main_df).sum()"
   ]
  },
  {
   "cell_type": "markdown",
   "id": "0b50f2a0",
   "metadata": {
    "execution": {
     "iopub.execute_input": "2022-08-02T02:22:26.864109Z",
     "iopub.status.busy": "2022-08-02T02:22:26.864109Z",
     "iopub.status.idle": "2022-08-02T02:22:26.995149Z",
     "shell.execute_reply": "2022-08-02T02:22:26.995149Z",
     "shell.execute_reply.started": "2022-08-02T02:22:26.864109Z"
    }
   },
   "source": [
    "# Imputing the missing values in \"Age\" variable \n",
    "\n",
    "* **Iterative Imputer:**\n",
    "Multivariate imputer that estimates each feature from all the others. A strategy for imputing missing values by modeling each feature with missing values as a function of other features in a round-robin fashion.\n",
    "\n",
    "https://scikit-learn.org/stable/modules/generated/sklearn.impute.IterativeImputer.html"
   ]
  },
  {
   "cell_type": "code",
   "execution_count": 9,
   "id": "ea6ce845",
   "metadata": {
    "tags": []
   },
   "outputs": [],
   "source": [
    "# Use multivariate imputer that estimates and imputes null values based on all the others. \n",
    "\n",
    "imp = IterativeImputer(max_iter=10, verbose=0) # values passed are defaults, but added them because they seem important... play around\n",
    "imp.fit(bank_main_df)\n",
    "imputed_df = imp.transform(bank_main_df)\n",
    "imputed_df = pd.DataFrame(imputed_df, columns=bank_main_df.columns)"
   ]
  },
  {
   "cell_type": "code",
   "execution_count": 10,
   "id": "eb889199",
   "metadata": {
    "tags": []
   },
   "outputs": [],
   "source": [
    "# pd.isnull(imputed_df).sum()"
   ]
  },
  {
   "cell_type": "markdown",
   "id": "7cfb1b28",
   "metadata": {},
   "source": [
    "# R-Forest Feature Importance"
   ]
  },
  {
   "cell_type": "code",
   "execution_count": 11,
   "id": "fb10afd7",
   "metadata": {
    "tags": []
   },
   "outputs": [],
   "source": [
    "scaler = StandardScaler() \n",
    "X_scaled = scaler.fit_transform(imputed_df)\n",
    "\n",
    "X = imputed_df.drop(columns='deposit')\n",
    "y = imputed_df['deposit']\n",
    "\n",
    "X_train, X_test, y_train, y_test = train_test_split(X,y,test_size=0.3, shuffle=True, random_state=42) "
   ]
  },
  {
   "cell_type": "markdown",
   "id": "8d906b58",
   "metadata": {},
   "source": [
    "# Loop through all classifiers"
   ]
  },
  {
   "cell_type": "code",
   "execution_count": 12,
   "id": "94aa52ea",
   "metadata": {
    "tags": []
   },
   "outputs": [],
   "source": [
    "# StandardScaler, MinMaxScaler, RobustScaler\n",
    "scaler = RobustScaler() \n",
    "X_scaled = scaler.fit_transform(imputed_df)\n",
    "\n",
    "X = imputed_df.drop(columns='deposit')\n",
    "y = imputed_df['deposit']\n",
    "\n",
    "X_train, X_test, y_train, y_test = train_test_split(X,y,test_size=0.3, shuffle=True)"
   ]
  },
  {
   "cell_type": "code",
   "execution_count": 13,
   "id": "c21430af",
   "metadata": {
    "tags": []
   },
   "outputs": [
    {
     "name": "stdout",
     "output_type": "stream",
     "text": [
      "==============================\n",
      "KNeighborsClassifier\n",
      "****Results****\n",
      "Accuracy: 87.6000%\n",
      "F1 Score: 0.351\n",
      "AUC (ROC) Score: 0.622\n",
      "Precision Score: 0.442\n",
      "Recall Score: 0.292\n"
     ]
    },
    {
     "name": "stderr",
     "output_type": "stream",
     "text": [
      "C:\\Users\\reagins\\AppData\\Local\\Temp\\ipykernel_37152\\3387647998.py:63: FutureWarning: The frame.append method is deprecated and will be removed from pandas in a future version. Use pandas.concat instead.\n",
      "  log = log.append(log_entry)\n"
     ]
    },
    {
     "name": "stdout",
     "output_type": "stream",
     "text": [
      "==============================\n",
      "DecisionTreeClassifier\n",
      "****Results****\n",
      "Accuracy: 87.9000%\n",
      "F1 Score: 0.484\n",
      "AUC (ROC) Score: 0.711\n",
      "Precision Score: 0.475\n",
      "Recall Score: 0.492\n"
     ]
    },
    {
     "name": "stderr",
     "output_type": "stream",
     "text": [
      "C:\\Users\\reagins\\AppData\\Local\\Temp\\ipykernel_37152\\3387647998.py:63: FutureWarning: The frame.append method is deprecated and will be removed from pandas in a future version. Use pandas.concat instead.\n",
      "  log = log.append(log_entry)\n"
     ]
    },
    {
     "name": "stdout",
     "output_type": "stream",
     "text": [
      "==============================\n",
      "RandomForestClassifier\n",
      "****Results****\n",
      "Accuracy: 90.7000%\n",
      "F1 Score: 0.496\n",
      "AUC (ROC) Score: 0.685\n",
      "Precision Score: 0.663\n",
      "Recall Score: 0.396\n"
     ]
    },
    {
     "name": "stderr",
     "output_type": "stream",
     "text": [
      "C:\\Users\\reagins\\AppData\\Local\\Temp\\ipykernel_37152\\3387647998.py:63: FutureWarning: The frame.append method is deprecated and will be removed from pandas in a future version. Use pandas.concat instead.\n",
      "  log = log.append(log_entry)\n"
     ]
    },
    {
     "name": "stdout",
     "output_type": "stream",
     "text": [
      "==============================\n",
      "AdaBoostClassifier\n",
      "****Results****\n",
      "Accuracy: 90.1000%\n",
      "F1 Score: 0.467\n",
      "AUC (ROC) Score: 0.673\n",
      "Precision Score: 0.617\n",
      "Recall Score: 0.376\n"
     ]
    },
    {
     "name": "stderr",
     "output_type": "stream",
     "text": [
      "C:\\Users\\reagins\\AppData\\Local\\Temp\\ipykernel_37152\\3387647998.py:63: FutureWarning: The frame.append method is deprecated and will be removed from pandas in a future version. Use pandas.concat instead.\n",
      "  log = log.append(log_entry)\n"
     ]
    },
    {
     "name": "stdout",
     "output_type": "stream",
     "text": [
      "==============================\n",
      "GradientBoostingClassifier\n",
      "****Results****\n",
      "Accuracy: 90.7000%\n",
      "F1 Score: 0.504\n",
      "AUC (ROC) Score: 0.692\n",
      "Precision Score: 0.649\n",
      "Recall Score: 0.412\n",
      "==============================\n",
      "GaussianNB\n",
      "****Results****\n",
      "Accuracy: 85.5000%\n",
      "F1 Score: 0.459\n",
      "AUC (ROC) Score: 0.715\n",
      "Precision Score: 0.402\n",
      "Recall Score: 0.534\n",
      "==============================\n",
      "BernoulliNB\n",
      "****Results****\n",
      "Accuracy: 84.5000%\n",
      "F1 Score: 0.368\n",
      "AUC (ROC) Score: 0.648\n",
      "Precision Score: 0.346\n",
      "Recall Score: 0.392\n"
     ]
    },
    {
     "name": "stderr",
     "output_type": "stream",
     "text": [
      "C:\\Users\\reagins\\AppData\\Local\\Temp\\ipykernel_37152\\3387647998.py:63: FutureWarning: The frame.append method is deprecated and will be removed from pandas in a future version. Use pandas.concat instead.\n",
      "  log = log.append(log_entry)\n",
      "C:\\Users\\reagins\\AppData\\Local\\Temp\\ipykernel_37152\\3387647998.py:63: FutureWarning: The frame.append method is deprecated and will be removed from pandas in a future version. Use pandas.concat instead.\n",
      "  log = log.append(log_entry)\n",
      "C:\\Users\\reagins\\AppData\\Local\\Temp\\ipykernel_37152\\3387647998.py:63: FutureWarning: The frame.append method is deprecated and will be removed from pandas in a future version. Use pandas.concat instead.\n",
      "  log = log.append(log_entry)\n"
     ]
    },
    {
     "name": "stdout",
     "output_type": "stream",
     "text": [
      "==============================\n",
      "MLPClassifier\n",
      "****Results****\n",
      "Accuracy: 88.9000%\n",
      "F1 Score: 0.093\n",
      "AUC (ROC) Score: 0.524\n",
      "Precision Score: 0.794\n",
      "Recall Score: 0.049\n"
     ]
    },
    {
     "name": "stderr",
     "output_type": "stream",
     "text": [
      "C:\\Users\\reagins\\AppData\\Local\\Temp\\ipykernel_37152\\3387647998.py:63: FutureWarning: The frame.append method is deprecated and will be removed from pandas in a future version. Use pandas.concat instead.\n",
      "  log = log.append(log_entry)\n"
     ]
    },
    {
     "name": "stdout",
     "output_type": "stream",
     "text": [
      "==============================\n",
      "MLPClassifier\n",
      "****Results****\n",
      "Accuracy: 90.2000%\n",
      "F1 Score: 0.415\n",
      "AUC (ROC) Score: 0.642\n",
      "Precision Score: 0.656\n",
      "Recall Score: 0.304\n"
     ]
    },
    {
     "name": "stderr",
     "output_type": "stream",
     "text": [
      "C:\\Users\\reagins\\AppData\\Local\\Temp\\ipykernel_37152\\3387647998.py:63: FutureWarning: The frame.append method is deprecated and will be removed from pandas in a future version. Use pandas.concat instead.\n",
      "  log = log.append(log_entry)\n"
     ]
    },
    {
     "name": "stdout",
     "output_type": "stream",
     "text": [
      "==============================\n",
      "LinearDiscriminantAnalysis\n",
      "****Results****\n",
      "Accuracy: 90.4000%\n",
      "F1 Score: 0.513\n",
      "AUC (ROC) Score: 0.703\n",
      "Precision Score: 0.612\n",
      "Recall Score: 0.442\n",
      "==============================\n",
      "LogisticRegression\n",
      "****Results****\n"
     ]
    },
    {
     "name": "stderr",
     "output_type": "stream",
     "text": [
      "C:\\Users\\reagins\\AppData\\Local\\Temp\\ipykernel_37152\\3387647998.py:63: FutureWarning: The frame.append method is deprecated and will be removed from pandas in a future version. Use pandas.concat instead.\n",
      "  log = log.append(log_entry)\n",
      "C:\\Users\\reagins\\AppData\\Local\\Packages\\PythonSoftwareFoundation.Python.3.10_qbz5n2kfra8p0\\LocalCache\\local-packages\\Python310\\site-packages\\sklearn\\linear_model\\_logistic.py:814: ConvergenceWarning: lbfgs failed to converge (status=1):\n",
      "STOP: TOTAL NO. of ITERATIONS REACHED LIMIT.\n",
      "\n",
      "Increase the number of iterations (max_iter) or scale the data as shown in:\n",
      "    https://scikit-learn.org/stable/modules/preprocessing.html\n",
      "Please also refer to the documentation for alternative solver options:\n",
      "    https://scikit-learn.org/stable/modules/linear_model.html#logistic-regression\n",
      "  n_iter_i = _check_optimize_result(\n"
     ]
    },
    {
     "name": "stdout",
     "output_type": "stream",
     "text": [
      "Accuracy: 89.3000%\n",
      "F1 Score: 0.271\n",
      "AUC (ROC) Score: 0.58\n",
      "Precision Score: 0.619\n",
      "Recall Score: 0.174\n"
     ]
    },
    {
     "name": "stderr",
     "output_type": "stream",
     "text": [
      "C:\\Users\\reagins\\AppData\\Local\\Temp\\ipykernel_37152\\3387647998.py:63: FutureWarning: The frame.append method is deprecated and will be removed from pandas in a future version. Use pandas.concat instead.\n",
      "  log = log.append(log_entry)\n"
     ]
    },
    {
     "name": "stdout",
     "output_type": "stream",
     "text": [
      "==============================\n",
      "QuadraticDiscriminantAnalysis\n",
      "****Results****\n",
      "Accuracy: 86.8000%\n",
      "F1 Score: 0.452\n",
      "AUC (ROC) Score: 0.697\n",
      "Precision Score: 0.432\n",
      "Recall Score: 0.475\n"
     ]
    },
    {
     "name": "stderr",
     "output_type": "stream",
     "text": [
      "C:\\Users\\reagins\\AppData\\Local\\Packages\\PythonSoftwareFoundation.Python.3.10_qbz5n2kfra8p0\\LocalCache\\local-packages\\Python310\\site-packages\\sklearn\\discriminant_analysis.py:878: UserWarning: Variables are collinear\n",
      "  warnings.warn(\"Variables are collinear\")\n",
      "C:\\Users\\reagins\\AppData\\Local\\Temp\\ipykernel_37152\\3387647998.py:63: FutureWarning: The frame.append method is deprecated and will be removed from pandas in a future version. Use pandas.concat instead.\n",
      "  log = log.append(log_entry)\n"
     ]
    }
   ],
   "source": [
    "\n",
    "classifiers = [\n",
    "#     MultinomialNB(), # doesn't work\n",
    "    KNeighborsClassifier(3), # works\n",
    "#     SVC(kernel=\"rbf\", C=0.001, probability=True), # took a long time... need to refresh memory\n",
    "#     SVC(kernel='linear'), # took a long time... need to refresh memory\n",
    "#     NuSVC(probability=True, nu=0.1), # took a long time... need to refresh memory\n",
    "    DecisionTreeClassifier(), # works\n",
    "    RandomForestClassifier(), # works\n",
    "    AdaBoostClassifier(), # works\n",
    "    GradientBoostingClassifier(), # works\n",
    "    GaussianNB(), # works\n",
    "    BernoulliNB(), # works\n",
    "    MLPClassifier(), # works\n",
    "    MLPClassifier(hidden_layer_sizes=[100, 100]), # works\n",
    "    LinearDiscriminantAnalysis(), # works\n",
    "    LogisticRegression(), # works\n",
    "    QuadraticDiscriminantAnalysis(), # works\n",
    "]\n",
    "\n",
    "log_cols=[\"Classifier\", \"Accuracy\", \"F1 Score\", \"ROC\", \"Precision\", \"Recall\", \"Log Loss\"]\n",
    "log = pd.DataFrame(columns=log_cols)\n",
    "\n",
    "for clf in classifiers:\n",
    "    clf.fit(X_train, y_train)\n",
    "#     y_pred = clf.predict(X)\n",
    "    name = clf.__class__.__name__\n",
    "\n",
    "    print(\"=\"*30)\n",
    "    print(name)\n",
    "    print('****Results****')\n",
    "\n",
    "    train_predictions = clf.predict(X_test)\n",
    "    acc_ = accuracy_score(y_test, train_predictions)\n",
    "    acc = acc_.round(3)\n",
    "    print(\"Accuracy: {:.4%}\".format(acc))\n",
    "\n",
    "#     coef_scores = X_scaled\n",
    "#     coef_scores = clf.coef_\n",
    "#     print(coef_scores)\n",
    "\n",
    "    fbeta_ = fbeta_score(y_test, train_predictions, beta=1)\n",
    "    fbeta = fbeta_.round(3)\n",
    "    print(\"F1 Score: {}\".format(fbeta))\n",
    "\n",
    "    roc_ = roc_auc_score(y_test, train_predictions)\n",
    "    roc = roc_.round(3)\n",
    "    print(\"AUC (ROC) Score: {}\".format(roc))\n",
    "\n",
    "    precision_ = precision_score(y_test, train_predictions, average='binary')\n",
    "    precision = precision_.round(3)\n",
    "    print(\"Precision Score: {}\".format(precision))\n",
    "\n",
    "    recall_ = recall_score(y_test, train_predictions)\n",
    "    recall = recall_.round(3)\n",
    "    print(\"Recall Score: {}\".format(recall))\n",
    "\n",
    "#     train_predictions = clf.predict_proba(X_test)\n",
    "    ll_ = log_loss(y_test, train_predictions)\n",
    "    ll = ll_.round(3)\n",
    "#     print(\"Log Loss: {}\".format(ll))\n",
    "\n",
    "    log_entry = pd.DataFrame([[name, acc*100, fbeta, roc, precision, recall, ll]], columns=log_cols)\n",
    "    log = log.append(log_entry)\n",
    "\n",
    "# print(\"=\"*30)\n",
    "# type(coef_scores)\n",
    "# print(index)\n",
    "# print(log_entry)\n",
    "# type(log)"
   ]
  },
  {
   "cell_type": "code",
   "execution_count": 14,
   "id": "803389a2",
   "metadata": {
    "tags": []
   },
   "outputs": [
    {
     "data": {
      "image/png": "[encoded data removed]",
      "text/plain": [
       "<Figure size 1512x585 with 1 Axes>"
      ]
     },
     "metadata": {
      "needs_background": "light"
     },
     "output_type": "display_data"
    }
   ],
   "source": [
    "# Save DF as PNG\n",
    "def render_mpl_table(imputed_df, col_width=6.0, row_height=0.625, font_size=10,\n",
    "                     header_color='#40466e', row_colors=['#f1f1f2', 'w'], edge_color='w',\n",
    "                     bbox=[0, 0, 1, 1], header_columns=0,\n",
    "                     ax=None, **kwargs):\n",
    "    if ax is None:\n",
    "        size = (np.array(imputed_df.shape[::-1]) + np.array([0, 1])) * np.array([col_width, row_height])\n",
    "        fig, ax = plt.subplots(figsize=size)\n",
    "        ax.axis('off')\n",
    "    mpl_table = ax.table(cellText=imputed_df.values, bbox=bbox, colLabels=imputed_df.columns, **kwargs)\n",
    "    mpl_table.auto_set_font_size(False)\n",
    "    mpl_table.set_fontsize(font_size)\n",
    "\n",
    "    for k, cell in mpl_table._cells.items():\n",
    "        cell.set_edgecolor(edge_color)\n",
    "        if k[0] == 0 or k[1] < header_columns:\n",
    "            cell.set_text_props(weight='bold', color='w')\n",
    "            cell.set_facecolor(header_color)\n",
    "        else:\n",
    "            cell.set_facecolor(row_colors[k[0]%len(row_colors) ])\n",
    "    return ax.get_figure(), ax\n",
    "\n",
    "fig,ax = render_mpl_table(log, header_columns=0, col_width=3.0)\n",
    "fig.savefig(\"table_mpl.png\")"
   ]
  },
  {
   "cell_type": "markdown",
   "id": "65fa06f3",
   "metadata": {},
   "source": [
    "### Setting up Logistic Regression"
   ]
  },
  {
   "cell_type": "code",
   "execution_count": 15,
   "id": "e2ba0faf",
   "metadata": {
    "tags": []
   },
   "outputs": [],
   "source": [
    "from sklearn.linear_model import LogisticRegression\n",
    "from sklearn.preprocessing import StandardScaler, MinMaxScaler, RobustScaler\n",
    "from sklearn.model_selection import train_test_split\n",
    "from sklearn.metrics import confusion_matrix, classification_report"
   ]
  },
  {
   "cell_type": "code",
   "execution_count": 16,
   "id": "893e416a",
   "metadata": {
    "tags": []
   },
   "outputs": [],
   "source": [
    "#set up the X matrix and y target variable\n",
    "X = bank_main_df.drop(columns='deposit')\n",
    "y = bank_main_df['deposit']\n",
    "\n",
    "#split the data appropriately into training and testing datasets\n",
    "X_train, X_test, y_train, y_test = train_test_split(X,y,test_size=0.3, shuffle=True)"
   ]
  },
  {
   "cell_type": "code",
   "execution_count": 17,
   "id": "0170955a",
   "metadata": {},
   "outputs": [
    {
     "ename": "ValueError",
     "evalue": "Input contains NaN, infinity or a value too large for dtype('float64').",
     "output_type": "error",
     "traceback": [
      "\u001b[1;31m---------------------------------------------------------------------------\u001b[0m",
      "\u001b[1;31mValueError\u001b[0m                                Traceback (most recent call last)",
      "Input \u001b[1;32mIn [17]\u001b[0m, in \u001b[0;36m<cell line: 10>\u001b[1;34m()\u001b[0m\n\u001b[0;32m      7\u001b[0m X_test_sc \u001b[38;5;241m=\u001b[39m sc\u001b[38;5;241m.\u001b[39mtransform(X_test)\n\u001b[0;32m      9\u001b[0m \u001b[38;5;66;03m#train the logreg model\u001b[39;00m\n\u001b[1;32m---> 10\u001b[0m \u001b[43mlogreg\u001b[49m\u001b[38;5;241;43m.\u001b[39;49m\u001b[43mfit\u001b[49m\u001b[43m(\u001b[49m\u001b[43mX_train_sc\u001b[49m\u001b[43m,\u001b[49m\u001b[43m \u001b[49m\u001b[43my_train\u001b[49m\u001b[43m)\u001b[49m\n",
      "File \u001b[1;32m~\\AppData\\Local\\Packages\\PythonSoftwareFoundation.Python.3.10_qbz5n2kfra8p0\\LocalCache\\local-packages\\Python310\\site-packages\\sklearn\\linear_model\\_logistic.py:1508\u001b[0m, in \u001b[0;36mLogisticRegression.fit\u001b[1;34m(self, X, y, sample_weight)\u001b[0m\n\u001b[0;32m   1505\u001b[0m \u001b[38;5;28;01melse\u001b[39;00m:\n\u001b[0;32m   1506\u001b[0m     _dtype \u001b[38;5;241m=\u001b[39m [np\u001b[38;5;241m.\u001b[39mfloat64, np\u001b[38;5;241m.\u001b[39mfloat32]\n\u001b[1;32m-> 1508\u001b[0m X, y \u001b[38;5;241m=\u001b[39m \u001b[38;5;28;43mself\u001b[39;49m\u001b[38;5;241;43m.\u001b[39;49m\u001b[43m_validate_data\u001b[49m\u001b[43m(\u001b[49m\n\u001b[0;32m   1509\u001b[0m \u001b[43m    \u001b[49m\u001b[43mX\u001b[49m\u001b[43m,\u001b[49m\n\u001b[0;32m   1510\u001b[0m \u001b[43m    \u001b[49m\u001b[43my\u001b[49m\u001b[43m,\u001b[49m\n\u001b[0;32m   1511\u001b[0m \u001b[43m    \u001b[49m\u001b[43maccept_sparse\u001b[49m\u001b[38;5;241;43m=\u001b[39;49m\u001b[38;5;124;43m\"\u001b[39;49m\u001b[38;5;124;43mcsr\u001b[39;49m\u001b[38;5;124;43m\"\u001b[39;49m\u001b[43m,\u001b[49m\n\u001b[0;32m   1512\u001b[0m \u001b[43m    \u001b[49m\u001b[43mdtype\u001b[49m\u001b[38;5;241;43m=\u001b[39;49m\u001b[43m_dtype\u001b[49m\u001b[43m,\u001b[49m\n\u001b[0;32m   1513\u001b[0m \u001b[43m    \u001b[49m\u001b[43morder\u001b[49m\u001b[38;5;241;43m=\u001b[39;49m\u001b[38;5;124;43m\"\u001b[39;49m\u001b[38;5;124;43mC\u001b[39;49m\u001b[38;5;124;43m\"\u001b[39;49m\u001b[43m,\u001b[49m\n\u001b[0;32m   1514\u001b[0m \u001b[43m    \u001b[49m\u001b[43maccept_large_sparse\u001b[49m\u001b[38;5;241;43m=\u001b[39;49m\u001b[43msolver\u001b[49m\u001b[43m \u001b[49m\u001b[38;5;129;43;01mnot\u001b[39;49;00m\u001b[43m \u001b[49m\u001b[38;5;129;43;01min\u001b[39;49;00m\u001b[43m \u001b[49m\u001b[43m[\u001b[49m\u001b[38;5;124;43m\"\u001b[39;49m\u001b[38;5;124;43mliblinear\u001b[39;49m\u001b[38;5;124;43m\"\u001b[39;49m\u001b[43m,\u001b[49m\u001b[43m \u001b[49m\u001b[38;5;124;43m\"\u001b[39;49m\u001b[38;5;124;43msag\u001b[39;49m\u001b[38;5;124;43m\"\u001b[39;49m\u001b[43m,\u001b[49m\u001b[43m \u001b[49m\u001b[38;5;124;43m\"\u001b[39;49m\u001b[38;5;124;43msaga\u001b[39;49m\u001b[38;5;124;43m\"\u001b[39;49m\u001b[43m]\u001b[49m\u001b[43m,\u001b[49m\n\u001b[0;32m   1515\u001b[0m \u001b[43m\u001b[49m\u001b[43m)\u001b[49m\n\u001b[0;32m   1516\u001b[0m check_classification_targets(y)\n\u001b[0;32m   1517\u001b[0m \u001b[38;5;28mself\u001b[39m\u001b[38;5;241m.\u001b[39mclasses_ \u001b[38;5;241m=\u001b[39m np\u001b[38;5;241m.\u001b[39munique(y)\n",
      "File \u001b[1;32m~\\AppData\\Local\\Packages\\PythonSoftwareFoundation.Python.3.10_qbz5n2kfra8p0\\LocalCache\\local-packages\\Python310\\site-packages\\sklearn\\base.py:581\u001b[0m, in \u001b[0;36mBaseEstimator._validate_data\u001b[1;34m(self, X, y, reset, validate_separately, **check_params)\u001b[0m\n\u001b[0;32m    579\u001b[0m         y \u001b[38;5;241m=\u001b[39m check_array(y, \u001b[38;5;241m*\u001b[39m\u001b[38;5;241m*\u001b[39mcheck_y_params)\n\u001b[0;32m    580\u001b[0m     \u001b[38;5;28;01melse\u001b[39;00m:\n\u001b[1;32m--> 581\u001b[0m         X, y \u001b[38;5;241m=\u001b[39m check_X_y(X, y, \u001b[38;5;241m*\u001b[39m\u001b[38;5;241m*\u001b[39mcheck_params)\n\u001b[0;32m    582\u001b[0m     out \u001b[38;5;241m=\u001b[39m X, y\n\u001b[0;32m    584\u001b[0m \u001b[38;5;28;01mif\u001b[39;00m \u001b[38;5;129;01mnot\u001b[39;00m no_val_X \u001b[38;5;129;01mand\u001b[39;00m check_params\u001b[38;5;241m.\u001b[39mget(\u001b[38;5;124m\"\u001b[39m\u001b[38;5;124mensure_2d\u001b[39m\u001b[38;5;124m\"\u001b[39m, \u001b[38;5;28;01mTrue\u001b[39;00m):\n",
      "File \u001b[1;32m~\\AppData\\Local\\Packages\\PythonSoftwareFoundation.Python.3.10_qbz5n2kfra8p0\\LocalCache\\local-packages\\Python310\\site-packages\\sklearn\\utils\\validation.py:964\u001b[0m, in \u001b[0;36mcheck_X_y\u001b[1;34m(X, y, accept_sparse, accept_large_sparse, dtype, order, copy, force_all_finite, ensure_2d, allow_nd, multi_output, ensure_min_samples, ensure_min_features, y_numeric, estimator)\u001b[0m\n\u001b[0;32m    961\u001b[0m \u001b[38;5;28;01mif\u001b[39;00m y \u001b[38;5;129;01mis\u001b[39;00m \u001b[38;5;28;01mNone\u001b[39;00m:\n\u001b[0;32m    962\u001b[0m     \u001b[38;5;28;01mraise\u001b[39;00m \u001b[38;5;167;01mValueError\u001b[39;00m(\u001b[38;5;124m\"\u001b[39m\u001b[38;5;124my cannot be None\u001b[39m\u001b[38;5;124m\"\u001b[39m)\n\u001b[1;32m--> 964\u001b[0m X \u001b[38;5;241m=\u001b[39m \u001b[43mcheck_array\u001b[49m\u001b[43m(\u001b[49m\n\u001b[0;32m    965\u001b[0m \u001b[43m    \u001b[49m\u001b[43mX\u001b[49m\u001b[43m,\u001b[49m\n\u001b[0;32m    966\u001b[0m \u001b[43m    \u001b[49m\u001b[43maccept_sparse\u001b[49m\u001b[38;5;241;43m=\u001b[39;49m\u001b[43maccept_sparse\u001b[49m\u001b[43m,\u001b[49m\n\u001b[0;32m    967\u001b[0m \u001b[43m    \u001b[49m\u001b[43maccept_large_sparse\u001b[49m\u001b[38;5;241;43m=\u001b[39;49m\u001b[43maccept_large_sparse\u001b[49m\u001b[43m,\u001b[49m\n\u001b[0;32m    968\u001b[0m \u001b[43m    \u001b[49m\u001b[43mdtype\u001b[49m\u001b[38;5;241;43m=\u001b[39;49m\u001b[43mdtype\u001b[49m\u001b[43m,\u001b[49m\n\u001b[0;32m    969\u001b[0m \u001b[43m    \u001b[49m\u001b[43morder\u001b[49m\u001b[38;5;241;43m=\u001b[39;49m\u001b[43morder\u001b[49m\u001b[43m,\u001b[49m\n\u001b[0;32m    970\u001b[0m \u001b[43m    \u001b[49m\u001b[43mcopy\u001b[49m\u001b[38;5;241;43m=\u001b[39;49m\u001b[43mcopy\u001b[49m\u001b[43m,\u001b[49m\n\u001b[0;32m    971\u001b[0m \u001b[43m    \u001b[49m\u001b[43mforce_all_finite\u001b[49m\u001b[38;5;241;43m=\u001b[39;49m\u001b[43mforce_all_finite\u001b[49m\u001b[43m,\u001b[49m\n\u001b[0;32m    972\u001b[0m \u001b[43m    \u001b[49m\u001b[43mensure_2d\u001b[49m\u001b[38;5;241;43m=\u001b[39;49m\u001b[43mensure_2d\u001b[49m\u001b[43m,\u001b[49m\n\u001b[0;32m    973\u001b[0m \u001b[43m    \u001b[49m\u001b[43mallow_nd\u001b[49m\u001b[38;5;241;43m=\u001b[39;49m\u001b[43mallow_nd\u001b[49m\u001b[43m,\u001b[49m\n\u001b[0;32m    974\u001b[0m \u001b[43m    \u001b[49m\u001b[43mensure_min_samples\u001b[49m\u001b[38;5;241;43m=\u001b[39;49m\u001b[43mensure_min_samples\u001b[49m\u001b[43m,\u001b[49m\n\u001b[0;32m    975\u001b[0m \u001b[43m    \u001b[49m\u001b[43mensure_min_features\u001b[49m\u001b[38;5;241;43m=\u001b[39;49m\u001b[43mensure_min_features\u001b[49m\u001b[43m,\u001b[49m\n\u001b[0;32m    976\u001b[0m \u001b[43m    \u001b[49m\u001b[43mestimator\u001b[49m\u001b[38;5;241;43m=\u001b[39;49m\u001b[43mestimator\u001b[49m\u001b[43m,\u001b[49m\n\u001b[0;32m    977\u001b[0m \u001b[43m\u001b[49m\u001b[43m)\u001b[49m\n\u001b[0;32m    979\u001b[0m y \u001b[38;5;241m=\u001b[39m _check_y(y, multi_output\u001b[38;5;241m=\u001b[39mmulti_output, y_numeric\u001b[38;5;241m=\u001b[39my_numeric)\n\u001b[0;32m    981\u001b[0m check_consistent_length(X, y)\n",
      "File \u001b[1;32m~\\AppData\\Local\\Packages\\PythonSoftwareFoundation.Python.3.10_qbz5n2kfra8p0\\LocalCache\\local-packages\\Python310\\site-packages\\sklearn\\utils\\validation.py:800\u001b[0m, in \u001b[0;36mcheck_array\u001b[1;34m(array, accept_sparse, accept_large_sparse, dtype, order, copy, force_all_finite, ensure_2d, allow_nd, ensure_min_samples, ensure_min_features, estimator)\u001b[0m\n\u001b[0;32m    794\u001b[0m         \u001b[38;5;28;01mraise\u001b[39;00m \u001b[38;5;167;01mValueError\u001b[39;00m(\n\u001b[0;32m    795\u001b[0m             \u001b[38;5;124m\"\u001b[39m\u001b[38;5;124mFound array with dim \u001b[39m\u001b[38;5;132;01m%d\u001b[39;00m\u001b[38;5;124m. \u001b[39m\u001b[38;5;132;01m%s\u001b[39;00m\u001b[38;5;124m expected <= 2.\u001b[39m\u001b[38;5;124m\"\u001b[39m\n\u001b[0;32m    796\u001b[0m             \u001b[38;5;241m%\u001b[39m (array\u001b[38;5;241m.\u001b[39mndim, estimator_name)\n\u001b[0;32m    797\u001b[0m         )\n\u001b[0;32m    799\u001b[0m     \u001b[38;5;28;01mif\u001b[39;00m force_all_finite:\n\u001b[1;32m--> 800\u001b[0m         \u001b[43m_assert_all_finite\u001b[49m\u001b[43m(\u001b[49m\u001b[43marray\u001b[49m\u001b[43m,\u001b[49m\u001b[43m \u001b[49m\u001b[43mallow_nan\u001b[49m\u001b[38;5;241;43m=\u001b[39;49m\u001b[43mforce_all_finite\u001b[49m\u001b[43m \u001b[49m\u001b[38;5;241;43m==\u001b[39;49m\u001b[43m \u001b[49m\u001b[38;5;124;43m\"\u001b[39;49m\u001b[38;5;124;43mallow-nan\u001b[39;49m\u001b[38;5;124;43m\"\u001b[39;49m\u001b[43m)\u001b[49m\n\u001b[0;32m    802\u001b[0m \u001b[38;5;28;01mif\u001b[39;00m ensure_min_samples \u001b[38;5;241m>\u001b[39m \u001b[38;5;241m0\u001b[39m:\n\u001b[0;32m    803\u001b[0m     n_samples \u001b[38;5;241m=\u001b[39m _num_samples(array)\n",
      "File \u001b[1;32m~\\AppData\\Local\\Packages\\PythonSoftwareFoundation.Python.3.10_qbz5n2kfra8p0\\LocalCache\\local-packages\\Python310\\site-packages\\sklearn\\utils\\validation.py:114\u001b[0m, in \u001b[0;36m_assert_all_finite\u001b[1;34m(X, allow_nan, msg_dtype)\u001b[0m\n\u001b[0;32m    107\u001b[0m     \u001b[38;5;28;01mif\u001b[39;00m (\n\u001b[0;32m    108\u001b[0m         allow_nan\n\u001b[0;32m    109\u001b[0m         \u001b[38;5;129;01mand\u001b[39;00m np\u001b[38;5;241m.\u001b[39misinf(X)\u001b[38;5;241m.\u001b[39many()\n\u001b[0;32m    110\u001b[0m         \u001b[38;5;129;01mor\u001b[39;00m \u001b[38;5;129;01mnot\u001b[39;00m allow_nan\n\u001b[0;32m    111\u001b[0m         \u001b[38;5;129;01mand\u001b[39;00m \u001b[38;5;129;01mnot\u001b[39;00m np\u001b[38;5;241m.\u001b[39misfinite(X)\u001b[38;5;241m.\u001b[39mall()\n\u001b[0;32m    112\u001b[0m     ):\n\u001b[0;32m    113\u001b[0m         type_err \u001b[38;5;241m=\u001b[39m \u001b[38;5;124m\"\u001b[39m\u001b[38;5;124minfinity\u001b[39m\u001b[38;5;124m\"\u001b[39m \u001b[38;5;28;01mif\u001b[39;00m allow_nan \u001b[38;5;28;01melse\u001b[39;00m \u001b[38;5;124m\"\u001b[39m\u001b[38;5;124mNaN, infinity\u001b[39m\u001b[38;5;124m\"\u001b[39m\n\u001b[1;32m--> 114\u001b[0m         \u001b[38;5;28;01mraise\u001b[39;00m \u001b[38;5;167;01mValueError\u001b[39;00m(\n\u001b[0;32m    115\u001b[0m             msg_err\u001b[38;5;241m.\u001b[39mformat(\n\u001b[0;32m    116\u001b[0m                 type_err, msg_dtype \u001b[38;5;28;01mif\u001b[39;00m msg_dtype \u001b[38;5;129;01mis\u001b[39;00m \u001b[38;5;129;01mnot\u001b[39;00m \u001b[38;5;28;01mNone\u001b[39;00m \u001b[38;5;28;01melse\u001b[39;00m X\u001b[38;5;241m.\u001b[39mdtype\n\u001b[0;32m    117\u001b[0m             )\n\u001b[0;32m    118\u001b[0m         )\n\u001b[0;32m    119\u001b[0m \u001b[38;5;66;03m# for object dtype data, we only check for NaNs (GH-13254)\u001b[39;00m\n\u001b[0;32m    120\u001b[0m \u001b[38;5;28;01melif\u001b[39;00m X\u001b[38;5;241m.\u001b[39mdtype \u001b[38;5;241m==\u001b[39m np\u001b[38;5;241m.\u001b[39mdtype(\u001b[38;5;124m\"\u001b[39m\u001b[38;5;124mobject\u001b[39m\u001b[38;5;124m\"\u001b[39m) \u001b[38;5;129;01mand\u001b[39;00m \u001b[38;5;129;01mnot\u001b[39;00m allow_nan:\n",
      "\u001b[1;31mValueError\u001b[0m: Input contains NaN, infinity or a value too large for dtype('float64')."
     ]
    }
   ],
   "source": [
    "#instantiate scaler and LogisticRegression model\n",
    "sc = StandardScaler()\n",
    "logreg = LogisticRegression()\n",
    "\n",
    "#fit/transform the X_train and X_test datasets\n",
    "X_train_sc = sc.fit_transform(X_train)\n",
    "X_test_sc = sc.transform(X_test)\n",
    "\n",
    "#train the logreg model\n",
    "logreg.fit(X_train_sc, y_train)"
   ]
  },
  {
   "cell_type": "code",
   "execution_count": null,
   "id": "04803a44",
   "metadata": {},
   "outputs": [],
   "source": [
    "#score the model\n",
    "print(f\"Train score: {logreg.score(X_train_sc,y_train)}\")\n",
    "print(f\"Test score: {logreg.score(X_test_sc,y_test)}\")"
   ]
  },
  {
   "cell_type": "code",
   "execution_count": null,
   "id": "ee9e5a87",
   "metadata": {},
   "outputs": [],
   "source": [
    "#for the test dataset, make predictions for the target variable\n",
    "y_preds = logreg.predict(X_test_sc)"
   ]
  },
  {
   "cell_type": "code",
   "execution_count": null,
   "id": "1679988e",
   "metadata": {},
   "outputs": [],
   "source": [
    "print(f\"Confusion matrix so we can find Type I / Type II errors:\\n{confusion_matrix(y_true=y_test, y_pred=y_preds)}\")"
   ]
  },
  {
   "cell_type": "code",
   "execution_count": null,
   "id": "e4948764",
   "metadata": {},
   "outputs": [],
   "source": [
    "print(\"Here is a classification report, based on the confusion matrix\")\n",
    "print(classification_report(y_true=y_test,y_pred=y_preds))"
   ]
  },
  {
   "cell_type": "code",
   "execution_count": null,
   "id": "563931c3",
   "metadata": {},
   "outputs": [],
   "source": [
    "plt.figure(figsize=(24,3))\n",
    "sns.barplot(X.columns,logreg.coef_[0])\n",
    "plt.xticks(rotation=60)\n",
    "plt.title(\"Extracting the Feature Importance\");"
   ]
  },
  {
   "cell_type": "markdown",
   "id": "5c0b22af",
   "metadata": {},
   "source": [
    "### Further discussion for the group\n",
    "* **What further refinements to the dataset should we make as part of the EDA / cleanup?**\n",
    "    * Removing the *pdays* variable, for example\n",
    "    * Dropping outliers \n",
    "* **How might the use of other classification algorithms and scalers affect the final predictions?**\n",
    "    * ~Algorithms like LogisticRegression, DecisionTree, RandomForest, Kneighbors, NaiveBayes, neural net, etc.~\n",
    "    * Scalers like StandardScaler, MinMaxScaler, RobustScaler\n",
    "    * PCA (principal component analysis) to reduce dimensions\n",
    "* **Playing with parameters, pipelines, gridsearches to maximize True Negatives and minimize False Negatives**\n",
    "    * That is, maximize deposit==1 correct predictions and reducing deposit==0 wrong predictions\n",
    "    * Even if that means accidentally overpredicting the number of true deposits, better to try a bad path than miss a potential business opportunity\n",
    "* **Extending this to other predictions**\n",
    "    * e.g. predicting the \"default\" variable, or some other classification\n",
    "    * e.g. predicting a range for continuous values based on categorical values\n",
    "* **Best ways to impute missing data?**\n",
    "    * "
   ]
  },
  {
   "cell_type": "code",
   "execution_count": null,
   "id": "bb5f6a31",
   "metadata": {},
   "outputs": [],
   "source": []
  },
  {
   "cell_type": "code",
   "execution_count": null,
   "id": "6dc140aa-dcd4-45e8-8360-bb158b089330",
   "metadata": {},
   "outputs": [],
   "source": []
  },
  {
   "cell_type": "code",
   "execution_count": null,
   "id": "6b029a36-60e8-439d-95ff-d93ab93ec608",
   "metadata": {},
   "outputs": [],
   "source": []
  }
 ],
 "metadata": {
  "kernelspec": {
   "display_name": "Python 3 (ipykernel)",
   "language": "python",
   "name": "python3"
  },
  "language_info": {
   "codemirror_mode": {
    "name": "ipython",
    "version": 3
   },
   "file_extension": ".py",
   "mimetype": "text/x-python",
   "name": "python",
   "nbconvert_exporter": "python",
   "pygments_lexer": "ipython3",
   "version": "3.10.5"
  }
 },
 "nbformat": 4,
 "nbformat_minor": 5
}
